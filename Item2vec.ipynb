{
 "cells": [
  {
   "cell_type": "markdown",
   "metadata": {},
   "source": [
    "# Item2vec"
   ]
  },
  {
   "cell_type": "code",
   "execution_count": 1,
   "metadata": {
    "ExecuteTime": {
     "end_time": "2024-03-10T13:01:49.339541Z",
     "start_time": "2024-03-10T13:01:43.779923Z"
    }
   },
   "outputs": [],
   "source": [
    "# 부모 폴더의 경로 추가\n",
    "import sys; sys.path.insert(0, '..')\n",
    "\n",
    "from util.data_loader import DataLoader\n",
    "from util.metric_calculator import MetricCalculator"
   ]
  },
  {
   "cell_type": "code",
   "execution_count": 2,
   "metadata": {
    "ExecuteTime": {
     "end_time": "2024-03-10T13:02:53.227640Z",
     "start_time": "2024-03-10T13:02:14.802493Z"
    }
   },
   "outputs": [],
   "source": [
    "# Movielens 데이터 로딩\n",
    "data_loader = DataLoader(num_users=1000, num_test_items=5, data_path='./data/ml-10M100K/')\n",
    "movielens = data_loader.load()"
   ]
  },
  {
   "cell_type": "code",
   "execution_count": 3,
   "metadata": {
    "ExecuteTime": {
     "end_time": "2024-03-10T13:03:35.457924Z",
     "start_time": "2024-03-10T13:02:57.252734Z"
    }
   },
   "outputs": [
    {
     "name": "stderr",
     "output_type": "stream",
     "text": [
      "C:\\Users\\jkm20\\anaconda3\\lib\\site-packages\\paramiko\\transport.py:219: CryptographyDeprecationWarning: Blowfish has been deprecated\n",
      "  \"class\": algorithms.Blowfish,\n"
     ]
    }
   ],
   "source": [
    "# Item2vecContent 추천\n",
    "from src.item2vec import Item2vecRecommender\n",
    "recommender = Item2vecRecommender()\n",
    "recommend_result = recommender.recommend(movielens)"
   ]
  },
  {
   "cell_type": "code",
   "execution_count": 4,
   "metadata": {
    "ExecuteTime": {
     "end_time": "2024-03-10T13:03:40.345041Z",
     "start_time": "2024-03-10T13:03:40.316058Z"
    }
   },
   "outputs": [
    {
     "name": "stdout",
     "output_type": "stream",
     "text": [
      "rmse=0.000, Precision@K=0.027, Recall@K=0.084\n"
     ]
    }
   ],
   "source": [
    "# 평가\n",
    "metric_calculator = MetricCalculator()\n",
    "metrics = metric_calculator.calc(\n",
    "    movielens.test.rating.tolist(), recommend_result.rating.tolist(),\n",
    "    movielens.test_user2items, recommend_result.user2items, k=10)\n",
    "print(metrics)"
   ]
  },
  {
   "cell_type": "code",
   "execution_count": 5,
   "metadata": {
    "ExecuteTime": {
     "end_time": "2024-03-10T13:04:56.637390Z",
     "start_time": "2024-03-10T13:04:56.624149Z"
    }
   },
   "outputs": [],
   "source": [
    "## src.item2vec 모듈"
   ]
  },
  {
   "cell_type": "code",
   "execution_count": null,
   "metadata": {
    "ExecuteTime": {
     "start_time": "2024-03-10T13:05:29.800Z"
    }
   },
   "outputs": [],
   "source": [
    "from util.models import RecommendResult, Dataset\n",
    "from src.base_recommender import BaseRecommender\n",
    "import numpy as np\n",
    "import gensim\n",
    "\n",
    "\n",
    "np.random.seed(0)\n",
    "\n",
    "\n",
    "class Item2vecRecommender(BaseRecommender):\n",
    "    def recommend(self, dataset: Dataset, **kwargs) -> RecommendResult:\n",
    "        # 인자 수\n",
    "        factors = kwargs.get(\"factors\", 100)\n",
    "        # 에폭 수\n",
    "        n_epochs = kwargs.get(\"n_epochs\", 30)\n",
    "        # window 크기\n",
    "        window = kwargs.get(\"window\", 100)\n",
    "        # 스킵 그램\n",
    "        use_skip_gram = kwargs.get(\"use_skip_gram\", 1)\n",
    "        # 계층적 소프트맥스\n",
    "        use_hierarchial_softmax = kwargs.get(\"use_hierarchial_softmax\", 0)\n",
    "        # 사용할 단어의 출현 횟수의 임곗값\n",
    "        min_count = kwargs.get(\"min_count\", 5)\n",
    "\n",
    "        item2vec_data = []\n",
    "        movielens_train_high_rating = dataset.train[dataset.train.rating >= 4]\n",
    "        for user_id, data in movielens_train_high_rating.groupby(\"user_id\"):\n",
    "            # 평가된 순으로 나열한다\n",
    "            # item2vec에서는 window라는 파라미터가 있으며, item의 평가된 순서도 중요한 요소가 된다\n",
    "            item2vec_data.append(data.sort_values(\"timestamp\")[\"movie_id\"].tolist())\n",
    "\n",
    "        model = gensim.models.word2vec.Word2Vec(\n",
    "            item2vec_data,\n",
    "            vector_size=factors,\n",
    "            window=window,\n",
    "            sg=use_skip_gram,\n",
    "            hs=use_hierarchial_softmax,\n",
    "            epochs=n_epochs,\n",
    "            min_count=min_count,\n",
    "        )\n",
    "\n",
    "        pred_user2items = dict()\n",
    "        for user_id, data in movielens_train_high_rating.groupby(\"user_id\"):\n",
    "            input_data = []\n",
    "            for item_id in data.sort_values(\"timestamp\")[\"movie_id\"].tolist():\n",
    "                if item_id in model.wv.key_to_index:\n",
    "                    input_data.append(item_id)\n",
    "            if len(input_data) == 0:\n",
    "                # 추천 계싼할 수 없는 경우에는 빈 배열\n",
    "                pred_user2items[user_id] = []\n",
    "                continue\n",
    "            recommended_items = model.wv.most_similar(input_data, topn=10)\n",
    "            pred_user2items[user_id] = [d[0] for d in recommended_items]\n",
    "\n",
    "        # Word2vec에서는 평갓값 예측이 어려우므로, rmse는 평가하지 않는다(편의상, 테스트 데이터의 예측값을 그대로 반환한다).\n",
    "        return RecommendResult(dataset.test.rating, pred_user2items)\n",
    "\n",
    "\n",
    "if __name__ == \"__main__\":\n",
    "    Item2vecRecommender().run_sample()\n"
   ]
  }
 ],
 "metadata": {
  "kernelspec": {
   "display_name": "Python 3",
   "language": "python",
   "name": "python3"
  },
  "language_info": {
   "codemirror_mode": {
    "name": "ipython",
    "version": 3
   },
   "file_extension": ".py",
   "mimetype": "text/x-python",
   "name": "python",
   "nbconvert_exporter": "python",
   "pygments_lexer": "ipython3",
   "version": "3.8.5"
  }
 },
 "nbformat": 4,
 "nbformat_minor": 5
}
