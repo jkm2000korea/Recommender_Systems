{
 "cells": [
  {
   "cell_type": "markdown",
   "metadata": {},
   "source": [
    "# 비음수 행렬 분해(Non-negative matrix factorization, NMF)\n",
    "\n",
    "다른 이름 : 자기 모델링 그래프 분해, 양수 행렬 분해, 음수 미포함 행렬 분해"
   ]
  },
  {
   "cell_type": "markdown",
   "metadata": {},
   "source": [
    "음수를 포함하지 않은 행렬 V를 음수를 포함하지 않은 행렬 W(샘플수)와 H(차원수)의 곱으로 분해하는 알고리즘  \n",
    "\n",
    "- 행렬이 음수를 포함하지 않는 성질 → 분해 결과 행렬을 찾기 쉽게 만든다.\n",
    "- 일반적으로 행렬 분해는 정확한 해가 없다 → 대략적인 해를 구함\n",
    "- 컴퓨터 시각 처리, 문서 분류, 음파 분석, 계량분석화학, 추천 시스템 등에 쓰인다.\n",
    "- PCA(주성분분석), SVD(특이값분해), ICA(독립성분분석)"
   ]
  },
  {
   "cell_type": "markdown",
   "metadata": {},
   "source": [
    "**적용**\n",
    "\n",
    "- 우리는 데이터 셋에서 특징을 추출하는 방법으로 쓰겠다\n",
    "- 여러개의 값으로 구성된 데이터를 가중치행렬과 특성행렬로 분리하는 방법으로 적용"
   ]
  },
  {
   "cell_type": "markdown",
   "metadata": {
    "ExecuteTime": {
     "end_time": "2024-04-01T10:00:10.469517Z",
     "start_time": "2024-04-01T10:00:10.448758Z"
    }
   },
   "source": [
    "예제\n",
    "\n",
    "- 행렬 10000x500 → 10000x10과 10x500의 크기를 가지는W(샘플수)와 H(차원수)로 분해\n",
    "- 파이썬 함수 from sklearn.decomposition import NMF\n",
    "- 예제 코드 : NMF(n_components=3, random_state=0, max_iter=1000, tol=1e-3) : 3개 차원으로 분해. 1000번 반복. 허용오차 0.001"
   ]
  },
  {
   "cell_type": "markdown",
   "metadata": {},
   "source": [
    "**장점**\n",
    "\n",
    "1. 두 행렬의 곱으로 표현되므로 W와 H의 요소로 설명할 수 있다. (interpretability)\n",
    "2. Part-based Representations\n",
    "\n",
    "**단점**\n",
    "1. 데이터가 비음수 조건이 필요하다. 데이터값이 음수가 있다면 NMF는 적용할 수 없다. \n",
    "2. component 개수을 고르는 것은 정해져있지 않다."
   ]
  },
  {
   "cell_type": "code",
   "execution_count": 1,
   "metadata": {
    "ExecuteTime": {
     "end_time": "2024-04-01T09:40:56.349491Z",
     "start_time": "2024-04-01T09:40:50.950131Z"
    }
   },
   "outputs": [],
   "source": [
    "# 부모 폴더의 경로 추가\n",
    "import sys; sys.path.insert(0, '..')\n",
    "\n",
    "from util.data_loader import DataLoader\n",
    "from util.metric_calculator import MetricCalculator"
   ]
  },
  {
   "cell_type": "code",
   "execution_count": 2,
   "metadata": {
    "ExecuteTime": {
     "end_time": "2024-04-01T09:41:35.103654Z",
     "start_time": "2024-04-01T09:40:56.350630Z"
    }
   },
   "outputs": [],
   "source": [
    "# Movielens 데이터 로딩\n",
    "data_loader = DataLoader(num_users=1000, num_test_items=5, data_path='../data/ml-10M100K/')\n",
    "movielens = data_loader.load()"
   ]
  },
  {
   "cell_type": "code",
   "execution_count": 3,
   "metadata": {
    "ExecuteTime": {
     "end_time": "2024-04-01T09:41:39.752226Z",
     "start_time": "2024-04-01T09:41:35.103654Z"
    }
   },
   "outputs": [
    {
     "name": "stderr",
     "output_type": "stream",
     "text": [
      "C:\\Users\\jkm20\\AppData\\Roaming\\Python\\Python38\\site-packages\\sklearn\\decomposition\\_nmf.py:1665: ConvergenceWarning: Maximum number of iterations 200 reached. Increase it to improve convergence.\n",
      "  warnings.warn(\n",
      "C:\\Users\\jkm20\\AppData\\Roaming\\Python\\Python38\\site-packages\\sklearn\\decomposition\\_nmf.py:1665: ConvergenceWarning: Maximum number of iterations 200 reached. Increase it to improve convergence.\n",
      "  warnings.warn(\n"
     ]
    }
   ],
   "source": [
    "# NMF 추천\n",
    "from src.nmf import NMFRecommender\n",
    "recommender = NMFRecommender()\n",
    "recommend_result = recommender.recommend(movielens)"
   ]
  },
  {
   "cell_type": "code",
   "execution_count": 4,
   "metadata": {
    "ExecuteTime": {
     "end_time": "2024-04-01T09:41:39.768186Z",
     "start_time": "2024-04-01T09:41:39.753764Z"
    }
   },
   "outputs": [
    {
     "name": "stdout",
     "output_type": "stream",
     "text": [
      "rmse=3.340, Precision@K=0.010, Recall@K=0.032\n"
     ]
    }
   ],
   "source": [
    "# 평가\n",
    "metric_calculator = MetricCalculator()\n",
    "metrics = metric_calculator.calc(\n",
    "    movielens.test.rating.tolist(), recommend_result.rating.tolist(),\n",
    "    movielens.test_user2items, recommend_result.user2items, k=10)\n",
    "print(metrics)"
   ]
  },
  {
   "cell_type": "code",
   "execution_count": 5,
   "metadata": {
    "ExecuteTime": {
     "end_time": "2024-04-01T09:41:41.087103Z",
     "start_time": "2024-04-01T09:41:39.768186Z"
    }
   },
   "outputs": [
    {
     "name": "stdout",
     "output_type": "stream",
     "text": [
      "rmse=1.051, Precision@K=0.018, Recall@K=0.059\n"
     ]
    }
   ],
   "source": [
    "# 결손값을 평균값으로 채운다\n",
    "recommend_result = recommender.recommend(movielens, fillna_with_zero=False)\n",
    "metrics = metric_calculator.calc(\n",
    "movielens.test.rating.tolist(), recommend_result.rating.tolist(),\n",
    "movielens.test_user2items, recommend_result.user2items, k=10)\n",
    "print(metrics)"
   ]
  },
  {
   "cell_type": "code",
   "execution_count": null,
   "metadata": {},
   "outputs": [],
   "source": []
  }
 ],
 "metadata": {
  "kernelspec": {
   "display_name": "Python 3",
   "language": "python",
   "name": "python3"
  },
  "language_info": {
   "codemirror_mode": {
    "name": "ipython",
    "version": 3
   },
   "file_extension": ".py",
   "mimetype": "text/x-python",
   "name": "python",
   "nbconvert_exporter": "python",
   "pygments_lexer": "ipython3",
   "version": "3.8.5"
  }
 },
 "nbformat": 4,
 "nbformat_minor": 5
}
